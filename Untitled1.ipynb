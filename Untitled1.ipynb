{
  "nbformat": 4,
  "nbformat_minor": 0,
  "metadata": {
    "colab": {
      "provenance": [],
      "authorship_tag": "ABX9TyO6ZI6m8ZVvJ9iHxdE0pgaq",
      "include_colab_link": true
    },
    "kernelspec": {
      "name": "python3",
      "display_name": "Python 3"
    },
    "language_info": {
      "name": "python"
    },
    "accelerator": "GPU",
    "gpuClass": "standard"
  },
  "cells": [
    {
      "cell_type": "markdown",
      "metadata": {
        "id": "view-in-github",
        "colab_type": "text"
      },
      "source": [
        "<a href=\"https://colab.research.google.com/github/Sepidehdam1375/Keras/blob/main/Untitled1.ipynb\" target=\"_parent\"><img src=\"https://colab.research.google.com/assets/colab-badge.svg\" alt=\"Open In Colab\"/></a>"
      ]
    },
    {
      "cell_type": "markdown",
      "source": [
        "**1**. **Libraries** "
      ],
      "metadata": {
        "id": "Cl_80QDo3KiK"
      }
    },
    {
      "cell_type": "code",
      "execution_count": 23,
      "metadata": {
        "colab": {
          "base_uri": "https://localhost:8080/"
        },
        "id": "4McBdXz03H0b",
        "outputId": "8f904512-2006-4fa3-90a7-b73bebeb2fa7"
      },
      "outputs": [
        {
          "output_type": "stream",
          "name": "stdout",
          "text": [
            "Looking in indexes: https://pypi.org/simple, https://us-python.pkg.dev/colab-wheels/public/simple/\n",
            "Requirement already satisfied: keras in /usr/local/lib/python3.8/dist-packages (2.11.0)\n"
          ]
        }
      ],
      "source": [
        "!pip install keras\n",
        "import pandas as pd\n",
        "import numpy as np\n",
        "import os\n",
        "import warnings\n",
        "import matplotlib.pyplot as plt\n",
        "from sklearn.model_selection import train_test_split\n",
        "from sklearn.preprocessing import MinMaxScaler\n",
        "from keras.models import Sequential\n",
        "from keras.layers import Dense\n",
        "from keras.optimizers import Adam, RMSprop, SGD\n",
        "warnings.filterwarnings('ignore') \n",
        "import tensorflow.compat.v1 as tf\n",
        "tf.disable_v2_behavior()                             \n",
        "%matplotlib inline\n"
      ]
    },
    {
      "cell_type": "markdown",
      "source": [
        "**2**. **Data** **reading** **and** **exploring**"
      ],
      "metadata": {
        "id": "-WFK_9At3vCU"
      }
    },
    {
      "cell_type": "code",
      "source": [
        "df = pd.read_csv('data_boston.csv', header='infer',encoding = 'latin1')\n",
        "X = df.drop(columns=['PRICE'])\n",
        "y = df['PRICE']\n",
        "df.head(5)\n",
        "scaler = MinMaxScaler()\n",
        "X = scaler.fit_transform(X)\n",
        "X_train, X_test, y_train, y_test = train_test_split(X, y, test_size=0.3, \n",
        "random_state=123)\n",
        "n_vars = X_train.shape[1]"
      ],
      "metadata": {
        "id": "vCYViyNv3XqJ"
      },
      "execution_count": 24,
      "outputs": []
    },
    {
      "cell_type": "markdown",
      "source": [
        "**3**. **Defining** **a** **model**, **train** **and** **test**"
      ],
      "metadata": {
        "id": "3EvF3gzG6N0i"
      }
    },
    {
      "cell_type": "code",
      "source": [
        "my_model1 = Sequential()\n",
        "my_model1.add(Dense(input_dim = n_vars, units = 1, activation=\"linear\"))\n",
        "my_model1.summary()\n",
        "n_epochs = 2000\n",
        "batch_size = 10\n",
        "learn_rate = 0.002\n",
        "my_optimizer=Adam(lr=learn_rate)\n",
        "my_model1.compile(loss = 'mae', optimizer = my_optimizer, metrics=['mse'])\n",
        "my_summary = my_model1.fit(X_train, y_train, epochs = n_epochs, batch_size = batch_size, validation_split = 0.2, verbose = 0)\n",
        "my_summary.history.keys()\n"
      ],
      "metadata": {
        "colab": {
          "base_uri": "https://localhost:8080/"
        },
        "id": "Ixt4gY9N34TB",
        "outputId": "e65130a1-c8d7-48d6-fe05-a911a21cf592"
      },
      "execution_count": 31,
      "outputs": [
        {
          "output_type": "stream",
          "name": "stdout",
          "text": [
            "Model: \"sequential_20\"\n",
            "_________________________________________________________________\n",
            " Layer (type)                Output Shape              Param #   \n",
            "=================================================================\n",
            " dense_20 (Dense)            (None, 1)                 14        \n",
            "                                                                 \n",
            "=================================================================\n",
            "Total params: 14\n",
            "Trainable params: 14\n",
            "Non-trainable params: 0\n",
            "_________________________________________________________________\n"
          ]
        },
        {
          "output_type": "execute_result",
          "data": {
            "text/plain": [
              "dict_keys(['loss', 'mean_squared_error', 'val_loss', 'val_mean_squared_error'])"
            ]
          },
          "metadata": {},
          "execution_count": 31
        }
      ]
    },
    {
      "cell_type": "code",
      "source": [
        "n_skip = 100                \n",
        "plt.plot(my_summary.history['mean_squared_error'][n_skip:], c=\"b\")\n",
        "plt.plot(my_summary.history['val_mean_squared_error'][n_skip:], c=\"g\")\n",
        "plt.title('Training History')\n",
        "plt.ylabel('MSE')\n",
        "plt.xlabel('Epoch')\n",
        "plt.legend(['Train', 'Validation'], loc='upper right')\n",
        "plt.show()\n",
        "y_pred = my_model1.predict(X_test)[:,0]\n",
        "RMSE = np.sqrt(np.mean((y_test-y_pred)**2))\n",
        "np.round(RMSE,3)\n",
        "MSE = my_model1.evaluate(X_test, y_test, verbose=0)[1]       \n",
        "RMSE = np.sqrt(MSE)\n",
        "print(\"Test RMSE : {}\".format(np.round(RMSE,3)))"
      ],
      "metadata": {
        "colab": {
          "base_uri": "https://localhost:8080/",
          "height": 312
        },
        "id": "QvNtKPQvdef3",
        "outputId": "e9d71bdb-5122-415c-f3ed-d6ad24ed7e91"
      },
      "execution_count": 32,
      "outputs": [
        {
          "output_type": "display_data",
          "data": {
            "text/plain": [
              "<Figure size 432x288 with 1 Axes>"
            ],
            "image/png": "[encoded data removed]"
          },
          "metadata": {
            "needs_background": "light"
          }
        },
        {
          "output_type": "stream",
          "name": "stdout",
          "text": [
            "Test RMSE : 5.64300012588501\n"
          ]
        }
      ]
    },
    {
      "cell_type": "markdown",
      "source": [
        "**4**. **Keras** **Functional** **API** **model**"
      ],
      "metadata": {
        "id": "rHWaEuSV_h0W"
      }
    },
    {
      "cell_type": "code",
      "source": [
        "from keras.models import Model\n",
        "from keras.layers import Input, Dense\n",
        "my_input = Input(shape=(n_vars,))                                     \n",
        "my_output = Dense(units=1,activation='linear')(my_input)\n",
        "my_model2 = Model(inputs=my_input,outputs=my_output)\n",
        "my_model2.summary()\n",
        "my_optimizer=Adam(lr=learn_rate)\n",
        "my_model2.compile(loss = \"mae\", optimizer = my_optimizer, metrics=[\"mse\"]) \n",
        "my_summary = my_model2.fit(X_train, y_train, epochs=n_epochs, batch_size = batch_size, validation_split = 0.2, verbose = 0)\n",
        "my_summary.history. keys()\n"
      ],
      "metadata": {
        "colab": {
          "base_uri": "https://localhost:8080/"
        },
        "id": "YgqR8h9T7CjD",
        "outputId": "801af9e7-df1d-4981-cd95-0a284b474f4a"
      },
      "execution_count": 33,
      "outputs": [
        {
          "output_type": "stream",
          "name": "stdout",
          "text": [
            "Model: \"model\"\n",
            "_________________________________________________________________\n",
            " Layer (type)                Output Shape              Param #   \n",
            "=================================================================\n",
            " input_1 (InputLayer)        [(None, 13)]              0         \n",
            "                                                                 \n",
            " dense_21 (Dense)            (None, 1)                 14        \n",
            "                                                                 \n",
            "=================================================================\n",
            "Total params: 14\n",
            "Trainable params: 14\n",
            "Non-trainable params: 0\n",
            "_________________________________________________________________\n"
          ]
        },
        {
          "output_type": "execute_result",
          "data": {
            "text/plain": [
              "dict_keys(['loss', 'mean_squared_error', 'val_loss', 'val_mean_squared_error'])"
            ]
          },
          "metadata": {},
          "execution_count": 33
        }
      ]
    },
    {
      "cell_type": "code",
      "source": [
        "n_skip = 100                \n",
        "plt.plot(my_summary.history['mean_squared_error'][n_skip:], c=\"b\")\n",
        "plt.plot(my_summary.history['val_mean_squared_error'][n_skip:], c=\"g\")\n",
        "plt.title('Training History')\n",
        "plt.ylabel('MSE')\n",
        "plt.xlabel('Epoch')\n",
        "plt.legend(['Train', 'Validation'], loc='upper right')\n",
        "plt.show()\n",
        "MSE = my_model2.evaluate(X_test, y_test, verbose=0)[1]      \n",
        "RMSE = np.sqrt(MSE)\n",
        "print(\"Test RMSE : {}\".format(np.round(RMSE,3)))"
      ],
      "metadata": {
        "colab": {
          "base_uri": "https://localhost:8080/",
          "height": 312
        },
        "id": "9MY5sAgPeSeX",
        "outputId": "bb3d0832-aa4a-44c2-a21d-217a4a5355bd"
      },
      "execution_count": 34,
      "outputs": [
        {
          "output_type": "display_data",
          "data": {
            "text/plain": [
              "<Figure size 432x288 with 1 Axes>"
            ],
            "image/png": "[encoded data removed]"
          },
          "metadata": {
            "needs_background": "light"
          }
        },
        {
          "output_type": "stream",
          "name": "stdout",
          "text": [
            "Test RMSE : 5.638000011444092\n"
          ]
        }
      ]
    }
  ]
}